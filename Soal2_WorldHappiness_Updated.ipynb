{
 "cells": [
  {
   "cell_type": "markdown",
   "metadata": {},
   "source": [
    "### __Soal 2 - World Happiness__\n",
    "Disediakan dataset laporan tingkat kebahagiaan di berbagai negara di dunia: World Happiness. Gunakan hanya dataset 2019.csv, lalu buatlah sebuah file notebook (.ipynb) dan selesaikanlah beberapa soal berikut:"
   ]
  },
  {
   "cell_type": "code",
   "execution_count": 51,
   "metadata": {},
   "outputs": [],
   "source": [
    "import pandas as pd\n",
    "import numpy as np\n",
    "import matplotlib.pyplot as plt\n",
    "plt.style.use('seaborn')"
   ]
  },
  {
   "cell_type": "code",
   "execution_count": 52,
   "metadata": {},
   "outputs": [
    {
     "data": {
      "text/html": [
       "<div>\n",
       "<style scoped>\n",
       "    .dataframe tbody tr th:only-of-type {\n",
       "        vertical-align: middle;\n",
       "    }\n",
       "\n",
       "    .dataframe tbody tr th {\n",
       "        vertical-align: top;\n",
       "    }\n",
       "\n",
       "    .dataframe thead th {\n",
       "        text-align: right;\n",
       "    }\n",
       "</style>\n",
       "<table border=\"1\" class=\"dataframe\">\n",
       "  <thead>\n",
       "    <tr style=\"text-align: right;\">\n",
       "      <th></th>\n",
       "      <th>Overall rank</th>\n",
       "      <th>Country or region</th>\n",
       "      <th>Score</th>\n",
       "      <th>GDP per capita</th>\n",
       "      <th>Social support</th>\n",
       "      <th>Healthy life expectancy</th>\n",
       "      <th>Freedom to make life choices</th>\n",
       "      <th>Generosity</th>\n",
       "      <th>Perceptions of corruption</th>\n",
       "    </tr>\n",
       "  </thead>\n",
       "  <tbody>\n",
       "    <tr>\n",
       "      <td>0</td>\n",
       "      <td>1</td>\n",
       "      <td>Finland</td>\n",
       "      <td>7.769</td>\n",
       "      <td>1.340</td>\n",
       "      <td>1.587</td>\n",
       "      <td>0.986</td>\n",
       "      <td>0.596</td>\n",
       "      <td>0.153</td>\n",
       "      <td>0.393</td>\n",
       "    </tr>\n",
       "    <tr>\n",
       "      <td>1</td>\n",
       "      <td>2</td>\n",
       "      <td>Denmark</td>\n",
       "      <td>7.600</td>\n",
       "      <td>1.383</td>\n",
       "      <td>1.573</td>\n",
       "      <td>0.996</td>\n",
       "      <td>0.592</td>\n",
       "      <td>0.252</td>\n",
       "      <td>0.410</td>\n",
       "    </tr>\n",
       "    <tr>\n",
       "      <td>2</td>\n",
       "      <td>3</td>\n",
       "      <td>Norway</td>\n",
       "      <td>7.554</td>\n",
       "      <td>1.488</td>\n",
       "      <td>1.582</td>\n",
       "      <td>1.028</td>\n",
       "      <td>0.603</td>\n",
       "      <td>0.271</td>\n",
       "      <td>0.341</td>\n",
       "    </tr>\n",
       "    <tr>\n",
       "      <td>3</td>\n",
       "      <td>4</td>\n",
       "      <td>Iceland</td>\n",
       "      <td>7.494</td>\n",
       "      <td>1.380</td>\n",
       "      <td>1.624</td>\n",
       "      <td>1.026</td>\n",
       "      <td>0.591</td>\n",
       "      <td>0.354</td>\n",
       "      <td>0.118</td>\n",
       "    </tr>\n",
       "    <tr>\n",
       "      <td>4</td>\n",
       "      <td>5</td>\n",
       "      <td>Netherlands</td>\n",
       "      <td>7.488</td>\n",
       "      <td>1.396</td>\n",
       "      <td>1.522</td>\n",
       "      <td>0.999</td>\n",
       "      <td>0.557</td>\n",
       "      <td>0.322</td>\n",
       "      <td>0.298</td>\n",
       "    </tr>\n",
       "  </tbody>\n",
       "</table>\n",
       "</div>"
      ],
      "text/plain": [
       "   Overall rank Country or region  Score  GDP per capita  Social support  \\\n",
       "0             1           Finland  7.769           1.340           1.587   \n",
       "1             2           Denmark  7.600           1.383           1.573   \n",
       "2             3            Norway  7.554           1.488           1.582   \n",
       "3             4           Iceland  7.494           1.380           1.624   \n",
       "4             5       Netherlands  7.488           1.396           1.522   \n",
       "\n",
       "   Healthy life expectancy  Freedom to make life choices  Generosity  \\\n",
       "0                    0.986                         0.596       0.153   \n",
       "1                    0.996                         0.592       0.252   \n",
       "2                    1.028                         0.603       0.271   \n",
       "3                    1.026                         0.591       0.354   \n",
       "4                    0.999                         0.557       0.322   \n",
       "\n",
       "   Perceptions of corruption  \n",
       "0                      0.393  \n",
       "1                      0.410  \n",
       "2                      0.341  \n",
       "3                      0.118  \n",
       "4                      0.298  "
      ]
     },
     "execution_count": 52,
     "metadata": {},
     "output_type": "execute_result"
    }
   ],
   "source": [
    "df = pd.read_csv('2019.csv')\n",
    "df.head()"
   ]
  },
  {
   "cell_type": "markdown",
   "metadata": {},
   "source": [
    "#### __1. Untuk setiap numerik feature/column (kecuali column Overall Rank), hitunglah:__\n",
    "- Mean, Median dan Modus\n",
    "- Range, Q1, Q3 dan IQR\n",
    "- Standard Deviasi & Variance\n",
    "- Z-score tiap data point"
   ]
  },
  {
   "cell_type": "code",
   "execution_count": 53,
   "metadata": {},
   "outputs": [
    {
     "data": {
      "text/plain": [
       "Score                           5.407096\n",
       "GDP per capita                  0.905147\n",
       "Social support                  1.208814\n",
       "Healthy life expectancy         0.725244\n",
       "Freedom to make life choices    0.392571\n",
       "Generosity                      0.184846\n",
       "Perceptions of corruption       0.110603\n",
       "dtype: float64"
      ]
     },
     "execution_count": 53,
     "metadata": {},
     "output_type": "execute_result"
    }
   ],
   "source": [
    "# Mean\n",
    "df[['Score','GDP per capita','Social support','Healthy life expectancy',\n",
    "    'Freedom to make life choices','Generosity','Perceptions of corruption']].mean()"
   ]
  },
  {
   "cell_type": "code",
   "execution_count": 54,
   "metadata": {},
   "outputs": [
    {
     "data": {
      "text/plain": [
       "Score                           5.3795\n",
       "GDP per capita                  0.9600\n",
       "Social support                  1.2715\n",
       "Healthy life expectancy         0.7890\n",
       "Freedom to make life choices    0.4170\n",
       "Generosity                      0.1775\n",
       "Perceptions of corruption       0.0855\n",
       "dtype: float64"
      ]
     },
     "execution_count": 54,
     "metadata": {},
     "output_type": "execute_result"
    }
   ],
   "source": [
    "# Median\n",
    "df[['Score','GDP per capita','Social support','Healthy life expectancy',\n",
    "    'Freedom to make life choices','Generosity','Perceptions of corruption']].median()"
   ]
  },
  {
   "cell_type": "code",
   "execution_count": 55,
   "metadata": {},
   "outputs": [
    {
     "data": {
      "text/html": [
       "<div>\n",
       "<style scoped>\n",
       "    .dataframe tbody tr th:only-of-type {\n",
       "        vertical-align: middle;\n",
       "    }\n",
       "\n",
       "    .dataframe tbody tr th {\n",
       "        vertical-align: top;\n",
       "    }\n",
       "\n",
       "    .dataframe thead th {\n",
       "        text-align: right;\n",
       "    }\n",
       "</style>\n",
       "<table border=\"1\" class=\"dataframe\">\n",
       "  <thead>\n",
       "    <tr style=\"text-align: right;\">\n",
       "      <th></th>\n",
       "      <th>Score</th>\n",
       "      <th>GDP per capita</th>\n",
       "      <th>Social support</th>\n",
       "      <th>Healthy life expectancy</th>\n",
       "      <th>Freedom to make life choices</th>\n",
       "      <th>Generosity</th>\n",
       "      <th>Perceptions of corruption</th>\n",
       "    </tr>\n",
       "  </thead>\n",
       "  <tbody>\n",
       "    <tr>\n",
       "      <td>0</td>\n",
       "      <td>5.208</td>\n",
       "      <td>0.96</td>\n",
       "      <td>1.465</td>\n",
       "      <td>0.815</td>\n",
       "      <td>0.498</td>\n",
       "      <td>0.153</td>\n",
       "      <td>0.028</td>\n",
       "    </tr>\n",
       "  </tbody>\n",
       "</table>\n",
       "</div>"
      ],
      "text/plain": [
       "   Score  GDP per capita  Social support  Healthy life expectancy  \\\n",
       "0  5.208            0.96           1.465                    0.815   \n",
       "\n",
       "   Freedom to make life choices  Generosity  Perceptions of corruption  \n",
       "0                         0.498       0.153                      0.028  "
      ]
     },
     "execution_count": 55,
     "metadata": {},
     "output_type": "execute_result"
    }
   ],
   "source": [
    "# Mode\n",
    "df[['Score','GDP per capita','Social support','Healthy life expectancy',\n",
    "    'Freedom to make life choices','Generosity','Perceptions of corruption']].mode().dropna()"
   ]
  },
  {
   "cell_type": "code",
   "execution_count": 56,
   "metadata": {},
   "outputs": [
    {
     "data": {
      "text/plain": [
       "Score                           4.916\n",
       "GDP per capita                  1.684\n",
       "Social support                  1.624\n",
       "Healthy life expectancy         1.141\n",
       "Freedom to make life choices    0.631\n",
       "Generosity                      0.566\n",
       "Perceptions of corruption       0.453\n",
       "Name: Range, dtype: float64"
      ]
     },
     "execution_count": 56,
     "metadata": {},
     "output_type": "execute_result"
    }
   ],
   "source": [
    "# Range\n",
    "a = df['Score'].max() - df['Score'].min()\n",
    "b = df['GDP per capita'].max() - df['GDP per capita'].min()\n",
    "c = df['Social support'].max() - df['Social support'].min()\n",
    "d = df['Healthy life expectancy'].max() - df['Healthy life expectancy'].min()\n",
    "e = df['Freedom to make life choices'].max() - df['Freedom to make life choices'].min()\n",
    "f = df['Generosity'].max() - df['Generosity'].min()\n",
    "g = df['Perceptions of corruption'].max() - df['Perceptions of corruption'].min()\n",
    "dictData = {'Score':a, 'GDP per capita':b, 'Social support':c, 'Healthy life expectancy':d,\n",
    "     'Freedom to make life choices':e, 'Generosity':f, 'Perceptions of corruption':g}\n",
    "rangeData = pd.Series(data=dictData, name='Range')\n",
    "rangeData"
   ]
  },
  {
   "cell_type": "code",
   "execution_count": 57,
   "metadata": {},
   "outputs": [
    {
     "data": {
      "text/html": [
       "<div>\n",
       "<style scoped>\n",
       "    .dataframe tbody tr th:only-of-type {\n",
       "        vertical-align: middle;\n",
       "    }\n",
       "\n",
       "    .dataframe tbody tr th {\n",
       "        vertical-align: top;\n",
       "    }\n",
       "\n",
       "    .dataframe thead th {\n",
       "        text-align: right;\n",
       "    }\n",
       "</style>\n",
       "<table border=\"1\" class=\"dataframe\">\n",
       "  <thead>\n",
       "    <tr style=\"text-align: right;\">\n",
       "      <th></th>\n",
       "      <th>Score</th>\n",
       "      <th>GDP per capita</th>\n",
       "      <th>Social support</th>\n",
       "      <th>Healthy life expectancy</th>\n",
       "      <th>Freedom to make life choices</th>\n",
       "      <th>Generosity</th>\n",
       "      <th>Perceptions of corruption</th>\n",
       "    </tr>\n",
       "  </thead>\n",
       "  <tbody>\n",
       "    <tr>\n",
       "      <td>0.25</td>\n",
       "      <td>4.5445</td>\n",
       "      <td>0.60275</td>\n",
       "      <td>1.05575</td>\n",
       "      <td>0.54775</td>\n",
       "      <td>0.30800</td>\n",
       "      <td>0.10875</td>\n",
       "      <td>0.04700</td>\n",
       "    </tr>\n",
       "    <tr>\n",
       "      <td>0.75</td>\n",
       "      <td>6.1845</td>\n",
       "      <td>1.23250</td>\n",
       "      <td>1.45250</td>\n",
       "      <td>0.88175</td>\n",
       "      <td>0.50725</td>\n",
       "      <td>0.24825</td>\n",
       "      <td>0.14125</td>\n",
       "    </tr>\n",
       "  </tbody>\n",
       "</table>\n",
       "</div>"
      ],
      "text/plain": [
       "       Score  GDP per capita  Social support  Healthy life expectancy  \\\n",
       "0.25  4.5445         0.60275         1.05575                  0.54775   \n",
       "0.75  6.1845         1.23250         1.45250                  0.88175   \n",
       "\n",
       "      Freedom to make life choices  Generosity  Perceptions of corruption  \n",
       "0.25                       0.30800     0.10875                    0.04700  \n",
       "0.75                       0.50725     0.24825                    0.14125  "
      ]
     },
     "execution_count": 57,
     "metadata": {},
     "output_type": "execute_result"
    }
   ],
   "source": [
    "# Q1, Q3\n",
    "a = df['Score'].quantile([0.25,0.75])\n",
    "b = df['GDP per capita'].quantile([0.25,0.75])\n",
    "c = df['Social support'].quantile([0.25,0.75])\n",
    "d = df['Healthy life expectancy'].quantile([0.25,0.75])\n",
    "e = df['Freedom to make life choices'].quantile([0.25,0.75])\n",
    "f = df['Generosity'].quantile([0.25,0.75])\n",
    "g = df['Perceptions of corruption'].quantile([0.25,0.75])\n",
    "df_quantile = pd.concat([a,b,c,d,e,f,g], axis=1)\n",
    "df_quantile"
   ]
  },
  {
   "cell_type": "code",
   "execution_count": 58,
   "metadata": {},
   "outputs": [
    {
     "data": {
      "text/plain": [
       "Score                           1.64000\n",
       "GDP per capita                  0.62975\n",
       "Social support                  0.39675\n",
       "Healthy life expectancy         0.33400\n",
       "Freedom to make life choices    0.19925\n",
       "Generosity                      0.13950\n",
       "Perceptions of corruption       0.09425\n",
       "Name: IQR, dtype: float64"
      ]
     },
     "execution_count": 58,
     "metadata": {},
     "output_type": "execute_result"
    }
   ],
   "source": [
    "# IQR\n",
    "a = df['Score'].quantile(0.75) - df['Score'].quantile(0.25)\n",
    "b = df['GDP per capita'].quantile(0.75) - df['GDP per capita'].quantile(0.25)\n",
    "c = df['Social support'].quantile(0.75) - df['Social support'].quantile(0.25)\n",
    "d = df['Healthy life expectancy'].quantile(0.75) - df['Healthy life expectancy'].quantile(0.25)\n",
    "e = df['Freedom to make life choices'].quantile(0.75) - df['Freedom to make life choices'].quantile(0.25)\n",
    "f = df['Generosity'].quantile(0.75) - df['Generosity'].quantile(0.25)\n",
    "g = df['Perceptions of corruption'].quantile(0.75) - df['Perceptions of corruption'].quantile(0.25)\n",
    "dictData = {'Score':a, 'GDP per capita':b, 'Social support':c, 'Healthy life expectancy':d,\n",
    "     'Freedom to make life choices':e, 'Generosity':f, 'Perceptions of corruption':g}\n",
    "IQRData = pd.Series(data=dictData, name='IQR')\n",
    "IQRData"
   ]
  },
  {
   "cell_type": "code",
   "execution_count": 60,
   "metadata": {},
   "outputs": [
    {
     "data": {
      "text/plain": [
       "Score                           1.113120\n",
       "GDP per capita                  0.398389\n",
       "Social support                  0.299191\n",
       "Healthy life expectancy         0.242124\n",
       "Freedom to make life choices    0.143289\n",
       "Generosity                      0.095254\n",
       "Perceptions of corruption       0.094538\n",
       "dtype: float64"
      ]
     },
     "execution_count": 60,
     "metadata": {},
     "output_type": "execute_result"
    }
   ],
   "source": [
    "# Standar Deviasi\n",
    "df_std = df.drop(['Overall rank'], axis=1)\n",
    "df_std = df_std.std()\n",
    "df_std"
   ]
  },
  {
   "cell_type": "code",
   "execution_count": 61,
   "metadata": {},
   "outputs": [
    {
     "data": {
      "text/plain": [
       "Score                           1.239036\n",
       "GDP per capita                  0.158714\n",
       "Social support                  0.089515\n",
       "Healthy life expectancy         0.058624\n",
       "Freedom to make life choices    0.020532\n",
       "Generosity                      0.009073\n",
       "Perceptions of corruption       0.008937\n",
       "dtype: float64"
      ]
     },
     "execution_count": 61,
     "metadata": {},
     "output_type": "execute_result"
    }
   ],
   "source": [
    "# Variance\n",
    "df_var = df.drop(['Overall rank'], axis=1)\n",
    "df_var = df_var.var()\n",
    "df_var"
   ]
  },
  {
   "cell_type": "code",
   "execution_count": 62,
   "metadata": {},
   "outputs": [
    {
     "data": {
      "text/html": [
       "<div>\n",
       "<style scoped>\n",
       "    .dataframe tbody tr th:only-of-type {\n",
       "        vertical-align: middle;\n",
       "    }\n",
       "\n",
       "    .dataframe tbody tr th {\n",
       "        vertical-align: top;\n",
       "    }\n",
       "\n",
       "    .dataframe thead th {\n",
       "        text-align: right;\n",
       "    }\n",
       "</style>\n",
       "<table border=\"1\" class=\"dataframe\">\n",
       "  <thead>\n",
       "    <tr style=\"text-align: right;\">\n",
       "      <th></th>\n",
       "      <th>Score</th>\n",
       "      <th>GDP per capita</th>\n",
       "      <th>Social support</th>\n",
       "      <th>Healthy life expectancy</th>\n",
       "      <th>Freedom to make life choices</th>\n",
       "      <th>Generosity</th>\n",
       "      <th>Perceptions of corruption</th>\n",
       "    </tr>\n",
       "  </thead>\n",
       "  <tbody>\n",
       "    <tr>\n",
       "      <td>0</td>\n",
       "      <td>2.128711</td>\n",
       "      <td>1.095042</td>\n",
       "      <td>1.268098</td>\n",
       "      <td>1.080422</td>\n",
       "      <td>1.424282</td>\n",
       "      <td>-0.335404</td>\n",
       "      <td>2.996757</td>\n",
       "    </tr>\n",
       "    <tr>\n",
       "      <td>1</td>\n",
       "      <td>1.976397</td>\n",
       "      <td>1.203324</td>\n",
       "      <td>1.221154</td>\n",
       "      <td>1.121857</td>\n",
       "      <td>1.396277</td>\n",
       "      <td>0.707265</td>\n",
       "      <td>3.177158</td>\n",
       "    </tr>\n",
       "    <tr>\n",
       "      <td>2</td>\n",
       "      <td>1.934938</td>\n",
       "      <td>1.467734</td>\n",
       "      <td>1.251332</td>\n",
       "      <td>1.254446</td>\n",
       "      <td>1.473292</td>\n",
       "      <td>0.907373</td>\n",
       "      <td>2.444941</td>\n",
       "    </tr>\n",
       "    <tr>\n",
       "      <td>3</td>\n",
       "      <td>1.880862</td>\n",
       "      <td>1.195769</td>\n",
       "      <td>1.392163</td>\n",
       "      <td>1.246159</td>\n",
       "      <td>1.389276</td>\n",
       "      <td>1.781530</td>\n",
       "      <td>0.078500</td>\n",
       "    </tr>\n",
       "    <tr>\n",
       "      <td>4</td>\n",
       "      <td>1.875454</td>\n",
       "      <td>1.236060</td>\n",
       "      <td>1.050146</td>\n",
       "      <td>1.134287</td>\n",
       "      <td>1.151229</td>\n",
       "      <td>1.444506</td>\n",
       "      <td>1.988632</td>\n",
       "    </tr>\n",
       "    <tr>\n",
       "      <td>...</td>\n",
       "      <td>...</td>\n",
       "      <td>...</td>\n",
       "      <td>...</td>\n",
       "      <td>...</td>\n",
       "      <td>...</td>\n",
       "      <td>...</td>\n",
       "      <td>...</td>\n",
       "    </tr>\n",
       "    <tr>\n",
       "      <td>151</td>\n",
       "      <td>-1.868418</td>\n",
       "      <td>-1.375303</td>\n",
       "      <td>-1.669224</td>\n",
       "      <td>-0.460929</td>\n",
       "      <td>1.137227</td>\n",
       "      <td>0.338645</td>\n",
       "      <td>3.187770</td>\n",
       "    </tr>\n",
       "    <tr>\n",
       "      <td>152</td>\n",
       "      <td>-1.961248</td>\n",
       "      <td>-1.080675</td>\n",
       "      <td>-1.085783</td>\n",
       "      <td>-0.937421</td>\n",
       "      <td>0.171040</td>\n",
       "      <td>0.960033</td>\n",
       "      <td>0.386244</td>\n",
       "    </tr>\n",
       "    <tr>\n",
       "      <td>153</td>\n",
       "      <td>-1.986484</td>\n",
       "      <td>-1.397967</td>\n",
       "      <td>-2.319726</td>\n",
       "      <td>-1.509213</td>\n",
       "      <td>-2.748526</td>\n",
       "      <td>-0.282744</td>\n",
       "      <td>-0.908401</td>\n",
       "    </tr>\n",
       "    <tr>\n",
       "      <td>154</td>\n",
       "      <td>-2.094636</td>\n",
       "      <td>-2.213861</td>\n",
       "      <td>-4.053282</td>\n",
       "      <td>-2.569928</td>\n",
       "      <td>-1.173221</td>\n",
       "      <td>0.528221</td>\n",
       "      <td>-0.802283</td>\n",
       "    </tr>\n",
       "    <tr>\n",
       "      <td>155</td>\n",
       "      <td>-2.301928</td>\n",
       "      <td>-1.508767</td>\n",
       "      <td>-2.125246</td>\n",
       "      <td>-1.782678</td>\n",
       "      <td>-2.678512</td>\n",
       "      <td>0.180664</td>\n",
       "      <td>-0.208019</td>\n",
       "    </tr>\n",
       "  </tbody>\n",
       "</table>\n",
       "<p>156 rows × 7 columns</p>\n",
       "</div>"
      ],
      "text/plain": [
       "        Score  GDP per capita  Social support  Healthy life expectancy  \\\n",
       "0    2.128711        1.095042        1.268098                 1.080422   \n",
       "1    1.976397        1.203324        1.221154                 1.121857   \n",
       "2    1.934938        1.467734        1.251332                 1.254446   \n",
       "3    1.880862        1.195769        1.392163                 1.246159   \n",
       "4    1.875454        1.236060        1.050146                 1.134287   \n",
       "..        ...             ...             ...                      ...   \n",
       "151 -1.868418       -1.375303       -1.669224                -0.460929   \n",
       "152 -1.961248       -1.080675       -1.085783                -0.937421   \n",
       "153 -1.986484       -1.397967       -2.319726                -1.509213   \n",
       "154 -2.094636       -2.213861       -4.053282                -2.569928   \n",
       "155 -2.301928       -1.508767       -2.125246                -1.782678   \n",
       "\n",
       "     Freedom to make life choices  Generosity  Perceptions of corruption  \n",
       "0                        1.424282   -0.335404                   2.996757  \n",
       "1                        1.396277    0.707265                   3.177158  \n",
       "2                        1.473292    0.907373                   2.444941  \n",
       "3                        1.389276    1.781530                   0.078500  \n",
       "4                        1.151229    1.444506                   1.988632  \n",
       "..                            ...         ...                        ...  \n",
       "151                      1.137227    0.338645                   3.187770  \n",
       "152                      0.171040    0.960033                   0.386244  \n",
       "153                     -2.748526   -0.282744                  -0.908401  \n",
       "154                     -1.173221    0.528221                  -0.802283  \n",
       "155                     -2.678512    0.180664                  -0.208019  \n",
       "\n",
       "[156 rows x 7 columns]"
      ]
     },
     "execution_count": 62,
     "metadata": {},
     "output_type": "execute_result"
    }
   ],
   "source": [
    "# Z-Score\n",
    "df_zscore = df.drop(['Overall rank', 'Country or region'], axis=1)\n",
    "df_zscore = (df_zscore - df_zscore.mean())/df_zscore.std(ddof=0)\n",
    "df_zscore"
   ]
  },
  {
   "cell_type": "markdown",
   "metadata": {},
   "source": [
    "#### __2. Untuk setiap numerik feature/column (kecuali column Overall Rank), carilah data outlier-nya berdasarkan:__\n",
    "- IQR method\n",
    "- Z-Score method"
   ]
  },
  {
   "cell_type": "markdown",
   "metadata": {},
   "source": [
    "##### __IQR Method__\n",
    "    In IQR method, outlier values are when x > Q3 + 1.5 IQR or x < Q1 - 1.5 IQR"
   ]
  },
  {
   "cell_type": "markdown",
   "metadata": {},
   "source": [
    "    Feature Score"
   ]
  },
  {
   "cell_type": "code",
   "execution_count": 63,
   "metadata": {},
   "outputs": [
    {
     "name": "stdout",
     "output_type": "stream",
     "text": [
      "Data outlier pada feature Score:  []\n"
     ]
    }
   ],
   "source": [
    "outliers = []\n",
    "def outlier_iqr(data):\n",
    "    sorted(data)\n",
    "    q1, q3 = np.percentile(data, [25, 75])\n",
    "    iqr = q3 - q1\n",
    "    lower_bound = q1 -(1.5 * iqr) \n",
    "    upper_bound = q3 +(1.5 * iqr)\n",
    "    for i in data:\n",
    "        if i < lower_bound or i > upper_bound:\n",
    "            outliers.append(i)\n",
    "    return outliers\n",
    "outlier_datapoints = outlier_iqr(df['Score'])\n",
    "print('Data outlier pada feature Score: ', outlier_datapoints)"
   ]
  },
  {
   "cell_type": "markdown",
   "metadata": {},
   "source": [
    "    Feature GDP per capita"
   ]
  },
  {
   "cell_type": "code",
   "execution_count": 64,
   "metadata": {},
   "outputs": [
    {
     "name": "stdout",
     "output_type": "stream",
     "text": [
      "Data outlier pada feature GDP per capita:  []\n"
     ]
    }
   ],
   "source": [
    "outliers = []\n",
    "def outlier_iqr(data):\n",
    "    sorted(data)\n",
    "    q1, q3 = np.percentile(data, [25, 75])\n",
    "    iqr = q3 - q1\n",
    "    lower_bound = q1 -(1.5 * iqr) \n",
    "    upper_bound = q3 +(1.5 * iqr)\n",
    "    for i in data:\n",
    "        if i < lower_bound or i > upper_bound:\n",
    "            outliers.append(i)\n",
    "    return outliers\n",
    "outlier_datapoints = outlier_iqr(df['GDP per capita'])\n",
    "print('Data outlier pada feature GDP per capita: ', outlier_datapoints)"
   ]
  },
  {
   "cell_type": "markdown",
   "metadata": {
    "jupyter": {
     "outputs_hidden": true
    }
   },
   "source": [
    "    Feature Social support"
   ]
  },
  {
   "cell_type": "code",
   "execution_count": 65,
   "metadata": {},
   "outputs": [
    {
     "name": "stdout",
     "output_type": "stream",
     "text": [
      "Data outlier pada feature Social support:  [0.43700000000000006, 0.447, 0.37799999999999995, 0.0]\n"
     ]
    }
   ],
   "source": [
    "outliers = []\n",
    "def outlier_iqr(data):\n",
    "    sorted(data)\n",
    "    q1, q3 = np.percentile(data, [25, 75])\n",
    "    iqr = q3 - q1\n",
    "    lower_bound = q1 -(1.5 * iqr) \n",
    "    upper_bound = q3 +(1.5 * iqr)\n",
    "    for i in data:\n",
    "        if i < lower_bound or i > upper_bound:\n",
    "            outliers.append(i)\n",
    "    return outliers\n",
    "outlier_datapoints = outlier_iqr(df['Social support'])\n",
    "print('Data outlier pada feature Social support: ', outlier_datapoints)"
   ]
  },
  {
   "cell_type": "markdown",
   "metadata": {},
   "source": [
    "    Feature Healthy life expectancy"
   ]
  },
  {
   "cell_type": "code",
   "execution_count": 66,
   "metadata": {},
   "outputs": [
    {
     "name": "stdout",
     "output_type": "stream",
     "text": [
      "Data outlier pada feature Healthy life expectancy:  [0.0]\n"
     ]
    }
   ],
   "source": [
    "outliers = []\n",
    "def outlier_iqr(data):\n",
    "    sorted(data)\n",
    "    q1, q3 = np.percentile(data, [25, 75])\n",
    "    iqr = q3 - q1\n",
    "    lower_bound = q1 -(1.5 * iqr) \n",
    "    upper_bound = q3 +(1.5 * iqr)\n",
    "    for i in data:\n",
    "        if i < lower_bound or i > upper_bound:\n",
    "            outliers.append(i)\n",
    "    return outliers\n",
    "outlier_datapoints = outlier_iqr(df['Healthy life expectancy'])\n",
    "print('Data outlier pada feature Healthy life expectancy: ', outlier_datapoints)"
   ]
  },
  {
   "cell_type": "markdown",
   "metadata": {},
   "source": [
    "    Feature Freedom to make life choices"
   ]
  },
  {
   "cell_type": "code",
   "execution_count": 67,
   "metadata": {},
   "outputs": [
    {
     "name": "stdout",
     "output_type": "stream",
     "text": [
      "Data outlier pada feature Freedom to make life choices:  [0.0]\n"
     ]
    }
   ],
   "source": [
    "outliers = []\n",
    "def outlier_iqr(data):\n",
    "    sorted(data)\n",
    "    q1, q3 = np.percentile(data, [25, 75])\n",
    "    iqr = q3 - q1\n",
    "    lower_bound = q1 -(1.5 * iqr) \n",
    "    upper_bound = q3 +(1.5 * iqr)\n",
    "    for i in data:\n",
    "        if i < lower_bound or i > upper_bound:\n",
    "            outliers.append(i)\n",
    "    return outliers\n",
    "outlier_datapoints = outlier_iqr(df['Freedom to make life choices'])\n",
    "print('Data outlier pada feature Freedom to make life choices: ', outlier_datapoints)"
   ]
  },
  {
   "cell_type": "markdown",
   "metadata": {},
   "source": [
    "    Feature Generosity"
   ]
  },
  {
   "cell_type": "code",
   "execution_count": 68,
   "metadata": {},
   "outputs": [
    {
     "name": "stdout",
     "output_type": "stream",
     "text": [
      "Data outlier pada feature Generosity:  [0.498, 0.5660000000000001]\n"
     ]
    }
   ],
   "source": [
    "outliers = []\n",
    "def outlier_iqr(data):\n",
    "    sorted(data)\n",
    "    q1, q3 = np.percentile(data, [25, 75])\n",
    "    iqr = q3 - q1\n",
    "    lower_bound = q1 -(1.5 * iqr) \n",
    "    upper_bound = q3 +(1.5 * iqr)\n",
    "    for i in data:\n",
    "        if i < lower_bound or i > upper_bound:\n",
    "            outliers.append(i)\n",
    "    return outliers\n",
    "outlier_datapoints = outlier_iqr(df['Generosity'])\n",
    "print('Data outlier pada feature Generosity: ', outlier_datapoints)"
   ]
  },
  {
   "cell_type": "markdown",
   "metadata": {},
   "source": [
    "    Feature Perceptions of corruption"
   ]
  },
  {
   "cell_type": "code",
   "execution_count": 69,
   "metadata": {},
   "outputs": [
    {
     "name": "stdout",
     "output_type": "stream",
     "text": [
      "Data outlier pada feature Perceptions of corruption:  [0.39299999999999996, 0.41, 0.341, 0.298, 0.34299999999999997, 0.373, 0.38, 0.308, 0.29, 0.316, 0.31, 0.45299999999999996, 0.287, 0.41100000000000003]\n"
     ]
    }
   ],
   "source": [
    "outliers = []\n",
    "def outlier_iqr(data):\n",
    "    sorted(data)\n",
    "    q1, q3 = np.percentile(data, [25, 75])\n",
    "    iqr = q3 - q1\n",
    "    lower_bound = q1 -(1.5 * iqr) \n",
    "    upper_bound = q3 +(1.5 * iqr)\n",
    "    for i in data:\n",
    "        if i < lower_bound or i > upper_bound:\n",
    "            outliers.append(i)\n",
    "    return outliers\n",
    "outlier_datapoints = outlier_iqr(df['Perceptions of corruption'])\n",
    "print('Data outlier pada feature Perceptions of corruption: ', outlier_datapoints)"
   ]
  },
  {
   "cell_type": "markdown",
   "metadata": {},
   "source": [
    "##### __Z-Score Method__\n",
    "    In Z-Score method, outlier values are when x > mean + 2s or x < mean - 2s\n",
    "    Or we can say that x will be an outlier data when its Z-Score > 3 standard deviation"
   ]
  },
  {
   "cell_type": "markdown",
   "metadata": {},
   "source": [
    "    Feature Score"
   ]
  },
  {
   "cell_type": "code",
   "execution_count": 70,
   "metadata": {},
   "outputs": [
    {
     "name": "stdout",
     "output_type": "stream",
     "text": [
      "Data outlier pada feature Score:  []\n"
     ]
    }
   ],
   "source": [
    "outliers=[]\n",
    "def detect_outlier(data):\n",
    "    threshold=3\n",
    "    data_mean = np.mean(data)\n",
    "    data_std =np.std(data)\n",
    "    for i in data:\n",
    "        z_score= (i - data_mean)/data_std \n",
    "        if np.abs(z_score) > threshold:\n",
    "            outliers.append(i)\n",
    "    return outliers\n",
    "outlier_datapoints = detect_outlier(df['Score'])\n",
    "print('Data outlier pada feature Score: ', outlier_datapoints)"
   ]
  },
  {
   "cell_type": "markdown",
   "metadata": {},
   "source": [
    "    Feature GDP per capita"
   ]
  },
  {
   "cell_type": "code",
   "execution_count": 71,
   "metadata": {},
   "outputs": [
    {
     "name": "stdout",
     "output_type": "stream",
     "text": [
      "Data outlier pada feature GDP per capita:  []\n"
     ]
    }
   ],
   "source": [
    "outliers=[]\n",
    "def detect_outlier(data):\n",
    "    threshold=3\n",
    "    data_mean = np.mean(data)\n",
    "    data_std =np.std(data)\n",
    "    for i in data:\n",
    "        z_score= (i - data_mean)/data_std \n",
    "        if np.abs(z_score) > threshold:\n",
    "            outliers.append(i)\n",
    "    return outliers\n",
    "outlier_datapoints = detect_outlier(df['GDP per capita'])\n",
    "print('Data outlier pada feature GDP per capita: ', outlier_datapoints)"
   ]
  },
  {
   "cell_type": "markdown",
   "metadata": {},
   "source": [
    "    Feature Social Support"
   ]
  },
  {
   "cell_type": "code",
   "execution_count": 72,
   "metadata": {},
   "outputs": [
    {
     "name": "stdout",
     "output_type": "stream",
     "text": [
      "Data outlier pada feature Social support:  [0.0]\n"
     ]
    }
   ],
   "source": [
    "outliers=[]\n",
    "def detect_outlier(data):\n",
    "    threshold=3\n",
    "    data_mean = np.mean(data)\n",
    "    data_std =np.std(data)\n",
    "    for i in data:\n",
    "        z_score= (i - data_mean)/data_std \n",
    "        if np.abs(z_score) > threshold:\n",
    "            outliers.append(i)\n",
    "    return outliers\n",
    "outlier_datapoints = detect_outlier(df['Social support'])\n",
    "print('Data outlier pada feature Social support: ', outlier_datapoints)"
   ]
  },
  {
   "cell_type": "markdown",
   "metadata": {},
   "source": [
    "    Feature Healthy life expectancy"
   ]
  },
  {
   "cell_type": "code",
   "execution_count": 73,
   "metadata": {},
   "outputs": [
    {
     "name": "stdout",
     "output_type": "stream",
     "text": [
      "Data outlier pada feature Healthy life expectancy:  [0.0]\n"
     ]
    }
   ],
   "source": [
    "outliers=[]\n",
    "def detect_outlier(data):\n",
    "    threshold=3\n",
    "    data_mean = np.mean(data)\n",
    "    data_std =np.std(data)\n",
    "    for i in data:\n",
    "        z_score= (i - data_mean)/data_std \n",
    "        if np.abs(z_score) > threshold:\n",
    "            outliers.append(i)\n",
    "    return outliers\n",
    "outlier_datapoints = detect_outlier(df['Healthy life expectancy'])\n",
    "print('Data outlier pada feature Healthy life expectancy: ', outlier_datapoints)"
   ]
  },
  {
   "cell_type": "markdown",
   "metadata": {},
   "source": [
    "    Feature Freedom to make life choices"
   ]
  },
  {
   "cell_type": "code",
   "execution_count": 74,
   "metadata": {},
   "outputs": [
    {
     "name": "stdout",
     "output_type": "stream",
     "text": [
      "Data outlier pada feature Freedom to make life choices:  []\n"
     ]
    }
   ],
   "source": [
    "outliers=[]\n",
    "def detect_outlier(data):\n",
    "    threshold=3\n",
    "    data_mean = np.mean(data)\n",
    "    data_std =np.std(data)\n",
    "    for i in data:\n",
    "        z_score= (i - data_mean)/data_std \n",
    "        if np.abs(z_score) > threshold:\n",
    "            outliers.append(i)\n",
    "    return outliers\n",
    "outlier_datapoints = detect_outlier(df['Freedom to make life choices'])\n",
    "print('Data outlier pada feature Freedom to make life choices: ', outlier_datapoints)"
   ]
  },
  {
   "cell_type": "markdown",
   "metadata": {},
   "source": [
    "    Feature Generosity"
   ]
  },
  {
   "cell_type": "code",
   "execution_count": 75,
   "metadata": {},
   "outputs": [
    {
     "name": "stdout",
     "output_type": "stream",
     "text": [
      "Data outlier pada feature Generosity:  [0.498, 0.5660000000000001]\n"
     ]
    }
   ],
   "source": [
    "outliers=[]\n",
    "def detect_outlier(data):\n",
    "    threshold=3\n",
    "    data_mean = np.mean(data)\n",
    "    data_std =np.std(data)\n",
    "    for i in data:\n",
    "        z_score= (i - data_mean)/data_std \n",
    "        if np.abs(z_score) > threshold:\n",
    "            outliers.append(i)\n",
    "    return outliers\n",
    "outlier_datapoints = detect_outlier(df['Generosity'])\n",
    "print('Data outlier pada feature Generosity: ', outlier_datapoints)"
   ]
  },
  {
   "cell_type": "markdown",
   "metadata": {},
   "source": [
    "    Feature Perceptions of corruption"
   ]
  },
  {
   "cell_type": "code",
   "execution_count": 76,
   "metadata": {},
   "outputs": [
    {
     "name": "stdout",
     "output_type": "stream",
     "text": [
      "Data outlier pada feature Perceptions of corruption:  [0.41, 0.45299999999999996, 0.41100000000000003]\n"
     ]
    }
   ],
   "source": [
    "outliers=[]\n",
    "def detect_outlier(data):\n",
    "    threshold=3\n",
    "    data_mean = np.mean(data)\n",
    "    data_std =np.std(data)\n",
    "    for i in data:\n",
    "        z_score= (i - data_mean)/data_std \n",
    "        if np.abs(z_score) > threshold:\n",
    "            outliers.append(i)\n",
    "    return outliers\n",
    "outlier_datapoints = detect_outlier(df['Perceptions of corruption'])\n",
    "print('Data outlier pada feature Perceptions of corruption: ', outlier_datapoints)"
   ]
  },
  {
   "cell_type": "markdown",
   "metadata": {},
   "source": [
    "#### __3. Tampilkan sebaran masing-masing numerik feature/column (kecuali column Overall Rank) dalam bentuk boxplot dan histogram!__"
   ]
  },
  {
   "cell_type": "code",
   "execution_count": 77,
   "metadata": {},
   "outputs": [
    {
     "data": {
      "image/png": "[encoded data removed]",
      "text/plain": [
       "<Figure size 576x396 with 1 Axes>"
      ]
     },
     "metadata": {},
     "output_type": "display_data"
    }
   ],
   "source": [
    "# Boxplot\n",
    "df_boxplot = df.drop(['Overall rank', 'Country or region'], axis=1)\n",
    "df_boxplot = df_boxplot.boxplot(column=['Score', 'GDP per capita', 'Social support','Healthy life expectancy',\n",
    "                                        'Freedom to make life choices', 'Generosity','Perceptions of corruption'],\n",
    "                               rot=45)"
   ]
  },
  {
   "cell_type": "code",
   "execution_count": 78,
   "metadata": {},
   "outputs": [
    {
     "data": {
      "image/png": "[encoded data removed]",
      "text/plain": [
       "<Figure size 1080x504 with 7 Axes>"
      ]
     },
     "metadata": {},
     "output_type": "display_data"
    }
   ],
   "source": [
    "# Histogram\n",
    "plt.figure(figsize=(15,7))\n",
    "\n",
    "plt.subplot(241)\n",
    "plt.hist(df['Score'])\n",
    "plt.title('Score')\n",
    "\n",
    "plt.subplot(242)\n",
    "plt.hist(df['GDP per capita'])\n",
    "plt.title('GDP per capita')\n",
    "\n",
    "plt.subplot(243)\n",
    "plt.hist(df['Social support'])\n",
    "plt.title('Social support')\n",
    "\n",
    "plt.subplot(244)\n",
    "plt.hist(df['Healthy life expectancy'])\n",
    "plt.title('Healthy life expectancy')\n",
    "\n",
    "plt.subplot(245)\n",
    "plt.hist(df['Freedom to make life choices'])\n",
    "plt.title('Freedom to make life choices')\n",
    "\n",
    "plt.subplot(246)\n",
    "plt.hist(df['Generosity'])\n",
    "plt.title('Generosity')\n",
    "\n",
    "plt.subplot(247)\n",
    "plt.hist(df['Perceptions of corruption'])\n",
    "plt.title('Perceptions of corruption')\n",
    "\n",
    "plt.show()"
   ]
  },
  {
   "cell_type": "markdown",
   "metadata": {},
   "source": [
    "#### __4. Di antara semua numerik feature/column (kecuali column Overall Rank), feature/column mana saja yang sangat mempengaruhi happiness score suatu negara? Buktikan dengan menghitung nilai:__\n",
    "- Covariance\n",
    "- Pearson Correlation\n",
    "- Spearman Correlation\n",
    "- Kendall Correlation"
   ]
  },
  {
   "cell_type": "markdown",
   "metadata": {},
   "source": [
    "    Before calculating correlation and covariance of the datas, it is important to first check whether our variables have linear relationship. We doing so by visualize our datas in scatter plot. "
   ]
  },
  {
   "cell_type": "code",
   "execution_count": 80,
   "metadata": {},
   "outputs": [
    {
     "data": {
      "image/png": "[encoded data removed]",
      "text/plain": [
       "<Figure size 1080x504 with 6 Axes>"
      ]
     },
     "metadata": {},
     "output_type": "display_data"
    }
   ],
   "source": [
    "plt.figure(figsize=(15,7))\n",
    "\n",
    "plt.subplot(231)\n",
    "plt.scatter(df['GDP per capita'], df['Score'])\n",
    "plt.title('GDP per capita')\n",
    "\n",
    "plt.subplot(232)\n",
    "plt.scatter(df['Social support'], df['Score'])\n",
    "plt.title('Social support')\n",
    "\n",
    "plt.subplot(233)\n",
    "plt.scatter(df['Healthy life expectancy'], df['Score'])\n",
    "plt.title('Healthy life expectancy')\n",
    "\n",
    "plt.subplot(234)\n",
    "plt.scatter(df['Freedom to make life choices'], df['Score'])\n",
    "plt.title('Freedom to make life choices')\n",
    "\n",
    "plt.subplot(235)\n",
    "plt.scatter(df['Generosity'], df['Score'])\n",
    "plt.title('Generosity')\n",
    "\n",
    "plt.subplot(236)\n",
    "plt.scatter(df['Perceptions of corruption'], df['Score'])\n",
    "plt.title('Perceptions of corruption')\n",
    "\n",
    "plt.show()"
   ]
  },
  {
   "cell_type": "markdown",
   "metadata": {},
   "source": [
    "    From this scatter plot, we can conclude that features that have linear relationship with happiness score are: GDP per capita, Social support, and Healthy life expectancy. \n",
    "    \n",
    "    Freedom to make life choices, Generosity, and Perception of corruption do not have linear relationship with Happiness score, so that calculating its correlation is not necessary (its correlation score will near 0 / have no correlation). We will keep calculating its correlation to prove the statements."
   ]
  },
  {
   "cell_type": "code",
   "execution_count": 81,
   "metadata": {},
   "outputs": [
    {
     "data": {
      "text/html": [
       "<div>\n",
       "<style scoped>\n",
       "    .dataframe tbody tr th:only-of-type {\n",
       "        vertical-align: middle;\n",
       "    }\n",
       "\n",
       "    .dataframe tbody tr th {\n",
       "        vertical-align: top;\n",
       "    }\n",
       "\n",
       "    .dataframe thead th {\n",
       "        text-align: right;\n",
       "    }\n",
       "</style>\n",
       "<table border=\"1\" class=\"dataframe\">\n",
       "  <thead>\n",
       "    <tr style=\"text-align: right;\">\n",
       "      <th></th>\n",
       "      <th>Score</th>\n",
       "      <th>GDP per capita</th>\n",
       "      <th>Social support</th>\n",
       "      <th>Healthy life expectancy</th>\n",
       "      <th>Freedom to make life choices</th>\n",
       "      <th>Generosity</th>\n",
       "      <th>Perceptions of corruption</th>\n",
       "    </tr>\n",
       "  </thead>\n",
       "  <tbody>\n",
       "    <tr>\n",
       "      <td>Score</td>\n",
       "      <td>1.239036</td>\n",
       "      <td>0.352052</td>\n",
       "      <td>0.258788</td>\n",
       "      <td>0.210189</td>\n",
       "      <td>0.090394</td>\n",
       "      <td>0.008040</td>\n",
       "      <td>0.040579</td>\n",
       "    </tr>\n",
       "    <tr>\n",
       "      <td>GDP per capita</td>\n",
       "      <td>0.352052</td>\n",
       "      <td>0.158714</td>\n",
       "      <td>0.089981</td>\n",
       "      <td>0.080588</td>\n",
       "      <td>0.021640</td>\n",
       "      <td>-0.003023</td>\n",
       "      <td>0.011258</td>\n",
       "    </tr>\n",
       "    <tr>\n",
       "      <td>Social support</td>\n",
       "      <td>0.258788</td>\n",
       "      <td>0.089981</td>\n",
       "      <td>0.089515</td>\n",
       "      <td>0.052086</td>\n",
       "      <td>0.019178</td>\n",
       "      <td>-0.001372</td>\n",
       "      <td>0.005145</td>\n",
       "    </tr>\n",
       "    <tr>\n",
       "      <td>Healthy life expectancy</td>\n",
       "      <td>0.210189</td>\n",
       "      <td>0.080588</td>\n",
       "      <td>0.052086</td>\n",
       "      <td>0.058624</td>\n",
       "      <td>0.013544</td>\n",
       "      <td>-0.000681</td>\n",
       "      <td>0.006759</td>\n",
       "    </tr>\n",
       "    <tr>\n",
       "      <td>Freedom to make life choices</td>\n",
       "      <td>0.090394</td>\n",
       "      <td>0.021640</td>\n",
       "      <td>0.019178</td>\n",
       "      <td>0.013544</td>\n",
       "      <td>0.020532</td>\n",
       "      <td>0.003682</td>\n",
       "      <td>0.005945</td>\n",
       "    </tr>\n",
       "    <tr>\n",
       "      <td>Generosity</td>\n",
       "      <td>0.008040</td>\n",
       "      <td>-0.003023</td>\n",
       "      <td>-0.001372</td>\n",
       "      <td>-0.000681</td>\n",
       "      <td>0.003682</td>\n",
       "      <td>0.009073</td>\n",
       "      <td>0.002941</td>\n",
       "    </tr>\n",
       "    <tr>\n",
       "      <td>Perceptions of corruption</td>\n",
       "      <td>0.040579</td>\n",
       "      <td>0.011258</td>\n",
       "      <td>0.005145</td>\n",
       "      <td>0.006759</td>\n",
       "      <td>0.005945</td>\n",
       "      <td>0.002941</td>\n",
       "      <td>0.008937</td>\n",
       "    </tr>\n",
       "  </tbody>\n",
       "</table>\n",
       "</div>"
      ],
      "text/plain": [
       "                                 Score  GDP per capita  Social support  \\\n",
       "Score                         1.239036        0.352052        0.258788   \n",
       "GDP per capita                0.352052        0.158714        0.089981   \n",
       "Social support                0.258788        0.089981        0.089515   \n",
       "Healthy life expectancy       0.210189        0.080588        0.052086   \n",
       "Freedom to make life choices  0.090394        0.021640        0.019178   \n",
       "Generosity                    0.008040       -0.003023       -0.001372   \n",
       "Perceptions of corruption     0.040579        0.011258        0.005145   \n",
       "\n",
       "                              Healthy life expectancy  \\\n",
       "Score                                        0.210189   \n",
       "GDP per capita                               0.080588   \n",
       "Social support                               0.052086   \n",
       "Healthy life expectancy                      0.058624   \n",
       "Freedom to make life choices                 0.013544   \n",
       "Generosity                                  -0.000681   \n",
       "Perceptions of corruption                    0.006759   \n",
       "\n",
       "                              Freedom to make life choices  Generosity  \\\n",
       "Score                                             0.090394    0.008040   \n",
       "GDP per capita                                    0.021640   -0.003023   \n",
       "Social support                                    0.019178   -0.001372   \n",
       "Healthy life expectancy                           0.013544   -0.000681   \n",
       "Freedom to make life choices                      0.020532    0.003682   \n",
       "Generosity                                        0.003682    0.009073   \n",
       "Perceptions of corruption                         0.005945    0.002941   \n",
       "\n",
       "                              Perceptions of corruption  \n",
       "Score                                          0.040579  \n",
       "GDP per capita                                 0.011258  \n",
       "Social support                                 0.005145  \n",
       "Healthy life expectancy                        0.006759  \n",
       "Freedom to make life choices                   0.005945  \n",
       "Generosity                                     0.002941  \n",
       "Perceptions of corruption                      0.008937  "
      ]
     },
     "execution_count": 81,
     "metadata": {},
     "output_type": "execute_result"
    }
   ],
   "source": [
    "# Covariance calculation\n",
    "df_cov = df.drop(['Overall rank'], axis=1)\n",
    "df_cov = df_cov.cov()\n",
    "df_cov"
   ]
  },
  {
   "cell_type": "markdown",
   "metadata": {},
   "source": [
    "    All features have positive (+) relationship with Score"
   ]
  },
  {
   "cell_type": "code",
   "execution_count": 82,
   "metadata": {},
   "outputs": [
    {
     "data": {
      "text/html": [
       "<div>\n",
       "<style scoped>\n",
       "    .dataframe tbody tr th:only-of-type {\n",
       "        vertical-align: middle;\n",
       "    }\n",
       "\n",
       "    .dataframe tbody tr th {\n",
       "        vertical-align: top;\n",
       "    }\n",
       "\n",
       "    .dataframe thead th {\n",
       "        text-align: right;\n",
       "    }\n",
       "</style>\n",
       "<table border=\"1\" class=\"dataframe\">\n",
       "  <thead>\n",
       "    <tr style=\"text-align: right;\">\n",
       "      <th></th>\n",
       "      <th>Score</th>\n",
       "      <th>GDP per capita</th>\n",
       "      <th>Social support</th>\n",
       "      <th>Healthy life expectancy</th>\n",
       "      <th>Freedom to make life choices</th>\n",
       "      <th>Generosity</th>\n",
       "      <th>Perceptions of corruption</th>\n",
       "    </tr>\n",
       "  </thead>\n",
       "  <tbody>\n",
       "    <tr>\n",
       "      <td>Score</td>\n",
       "      <td>1.000000</td>\n",
       "      <td>0.793883</td>\n",
       "      <td>0.777058</td>\n",
       "      <td>0.779883</td>\n",
       "      <td>0.566742</td>\n",
       "      <td>0.075824</td>\n",
       "      <td>0.385613</td>\n",
       "    </tr>\n",
       "    <tr>\n",
       "      <td>GDP per capita</td>\n",
       "      <td>0.793883</td>\n",
       "      <td>1.000000</td>\n",
       "      <td>0.754906</td>\n",
       "      <td>0.835462</td>\n",
       "      <td>0.379079</td>\n",
       "      <td>-0.079662</td>\n",
       "      <td>0.298920</td>\n",
       "    </tr>\n",
       "    <tr>\n",
       "      <td>Social support</td>\n",
       "      <td>0.777058</td>\n",
       "      <td>0.754906</td>\n",
       "      <td>1.000000</td>\n",
       "      <td>0.719009</td>\n",
       "      <td>0.447333</td>\n",
       "      <td>-0.048126</td>\n",
       "      <td>0.181899</td>\n",
       "    </tr>\n",
       "    <tr>\n",
       "      <td>Healthy life expectancy</td>\n",
       "      <td>0.779883</td>\n",
       "      <td>0.835462</td>\n",
       "      <td>0.719009</td>\n",
       "      <td>1.000000</td>\n",
       "      <td>0.390395</td>\n",
       "      <td>-0.029511</td>\n",
       "      <td>0.295283</td>\n",
       "    </tr>\n",
       "    <tr>\n",
       "      <td>Freedom to make life choices</td>\n",
       "      <td>0.566742</td>\n",
       "      <td>0.379079</td>\n",
       "      <td>0.447333</td>\n",
       "      <td>0.390395</td>\n",
       "      <td>1.000000</td>\n",
       "      <td>0.269742</td>\n",
       "      <td>0.438843</td>\n",
       "    </tr>\n",
       "    <tr>\n",
       "      <td>Generosity</td>\n",
       "      <td>0.075824</td>\n",
       "      <td>-0.079662</td>\n",
       "      <td>-0.048126</td>\n",
       "      <td>-0.029511</td>\n",
       "      <td>0.269742</td>\n",
       "      <td>1.000000</td>\n",
       "      <td>0.326538</td>\n",
       "    </tr>\n",
       "    <tr>\n",
       "      <td>Perceptions of corruption</td>\n",
       "      <td>0.385613</td>\n",
       "      <td>0.298920</td>\n",
       "      <td>0.181899</td>\n",
       "      <td>0.295283</td>\n",
       "      <td>0.438843</td>\n",
       "      <td>0.326538</td>\n",
       "      <td>1.000000</td>\n",
       "    </tr>\n",
       "  </tbody>\n",
       "</table>\n",
       "</div>"
      ],
      "text/plain": [
       "                                 Score  GDP per capita  Social support  \\\n",
       "Score                         1.000000        0.793883        0.777058   \n",
       "GDP per capita                0.793883        1.000000        0.754906   \n",
       "Social support                0.777058        0.754906        1.000000   \n",
       "Healthy life expectancy       0.779883        0.835462        0.719009   \n",
       "Freedom to make life choices  0.566742        0.379079        0.447333   \n",
       "Generosity                    0.075824       -0.079662       -0.048126   \n",
       "Perceptions of corruption     0.385613        0.298920        0.181899   \n",
       "\n",
       "                              Healthy life expectancy  \\\n",
       "Score                                        0.779883   \n",
       "GDP per capita                               0.835462   \n",
       "Social support                               0.719009   \n",
       "Healthy life expectancy                      1.000000   \n",
       "Freedom to make life choices                 0.390395   \n",
       "Generosity                                  -0.029511   \n",
       "Perceptions of corruption                    0.295283   \n",
       "\n",
       "                              Freedom to make life choices  Generosity  \\\n",
       "Score                                             0.566742    0.075824   \n",
       "GDP per capita                                    0.379079   -0.079662   \n",
       "Social support                                    0.447333   -0.048126   \n",
       "Healthy life expectancy                           0.390395   -0.029511   \n",
       "Freedom to make life choices                      1.000000    0.269742   \n",
       "Generosity                                        0.269742    1.000000   \n",
       "Perceptions of corruption                         0.438843    0.326538   \n",
       "\n",
       "                              Perceptions of corruption  \n",
       "Score                                          0.385613  \n",
       "GDP per capita                                 0.298920  \n",
       "Social support                                 0.181899  \n",
       "Healthy life expectancy                        0.295283  \n",
       "Freedom to make life choices                   0.438843  \n",
       "Generosity                                     0.326538  \n",
       "Perceptions of corruption                      1.000000  "
      ]
     },
     "execution_count": 82,
     "metadata": {},
     "output_type": "execute_result"
    }
   ],
   "source": [
    "# correlation calculation using pearson method\n",
    "df_pearson = df.drop(['Overall rank'], axis=1)\n",
    "df_pearson = df_pearson.corr(method='pearson')\n",
    "df_pearson"
   ]
  },
  {
   "cell_type": "markdown",
   "metadata": {},
   "source": [
    "    Feature that influence happiness score the most based on pearson is 'GDP per capita'"
   ]
  },
  {
   "cell_type": "code",
   "execution_count": 83,
   "metadata": {},
   "outputs": [
    {
     "data": {
      "text/html": [
       "<div>\n",
       "<style scoped>\n",
       "    .dataframe tbody tr th:only-of-type {\n",
       "        vertical-align: middle;\n",
       "    }\n",
       "\n",
       "    .dataframe tbody tr th {\n",
       "        vertical-align: top;\n",
       "    }\n",
       "\n",
       "    .dataframe thead th {\n",
       "        text-align: right;\n",
       "    }\n",
       "</style>\n",
       "<table border=\"1\" class=\"dataframe\">\n",
       "  <thead>\n",
       "    <tr style=\"text-align: right;\">\n",
       "      <th></th>\n",
       "      <th>Score</th>\n",
       "      <th>GDP per capita</th>\n",
       "      <th>Social support</th>\n",
       "      <th>Healthy life expectancy</th>\n",
       "      <th>Freedom to make life choices</th>\n",
       "      <th>Generosity</th>\n",
       "      <th>Perceptions of corruption</th>\n",
       "    </tr>\n",
       "  </thead>\n",
       "  <tbody>\n",
       "    <tr>\n",
       "      <td>Score</td>\n",
       "      <td>1.000000</td>\n",
       "      <td>0.814483</td>\n",
       "      <td>0.816181</td>\n",
       "      <td>0.807275</td>\n",
       "      <td>0.551974</td>\n",
       "      <td>0.070483</td>\n",
       "      <td>0.217348</td>\n",
       "    </tr>\n",
       "    <tr>\n",
       "      <td>GDP per capita</td>\n",
       "      <td>0.814483</td>\n",
       "      <td>1.000000</td>\n",
       "      <td>0.768539</td>\n",
       "      <td>0.851513</td>\n",
       "      <td>0.393426</td>\n",
       "      <td>-0.041304</td>\n",
       "      <td>0.223203</td>\n",
       "    </tr>\n",
       "    <tr>\n",
       "      <td>Social support</td>\n",
       "      <td>0.816181</td>\n",
       "      <td>0.768539</td>\n",
       "      <td>1.000000</td>\n",
       "      <td>0.725997</td>\n",
       "      <td>0.449491</td>\n",
       "      <td>0.007695</td>\n",
       "      <td>0.114017</td>\n",
       "    </tr>\n",
       "    <tr>\n",
       "      <td>Healthy life expectancy</td>\n",
       "      <td>0.807275</td>\n",
       "      <td>0.851513</td>\n",
       "      <td>0.725997</td>\n",
       "      <td>1.000000</td>\n",
       "      <td>0.412906</td>\n",
       "      <td>-0.006773</td>\n",
       "      <td>0.165309</td>\n",
       "    </tr>\n",
       "    <tr>\n",
       "      <td>Freedom to make life choices</td>\n",
       "      <td>0.551974</td>\n",
       "      <td>0.393426</td>\n",
       "      <td>0.449491</td>\n",
       "      <td>0.412906</td>\n",
       "      <td>1.000000</td>\n",
       "      <td>0.324146</td>\n",
       "      <td>0.403586</td>\n",
       "    </tr>\n",
       "    <tr>\n",
       "      <td>Generosity</td>\n",
       "      <td>0.070483</td>\n",
       "      <td>-0.041304</td>\n",
       "      <td>0.007695</td>\n",
       "      <td>-0.006773</td>\n",
       "      <td>0.324146</td>\n",
       "      <td>1.000000</td>\n",
       "      <td>0.286171</td>\n",
       "    </tr>\n",
       "    <tr>\n",
       "      <td>Perceptions of corruption</td>\n",
       "      <td>0.217348</td>\n",
       "      <td>0.223203</td>\n",
       "      <td>0.114017</td>\n",
       "      <td>0.165309</td>\n",
       "      <td>0.403586</td>\n",
       "      <td>0.286171</td>\n",
       "      <td>1.000000</td>\n",
       "    </tr>\n",
       "  </tbody>\n",
       "</table>\n",
       "</div>"
      ],
      "text/plain": [
       "                                 Score  GDP per capita  Social support  \\\n",
       "Score                         1.000000        0.814483        0.816181   \n",
       "GDP per capita                0.814483        1.000000        0.768539   \n",
       "Social support                0.816181        0.768539        1.000000   \n",
       "Healthy life expectancy       0.807275        0.851513        0.725997   \n",
       "Freedom to make life choices  0.551974        0.393426        0.449491   \n",
       "Generosity                    0.070483       -0.041304        0.007695   \n",
       "Perceptions of corruption     0.217348        0.223203        0.114017   \n",
       "\n",
       "                              Healthy life expectancy  \\\n",
       "Score                                        0.807275   \n",
       "GDP per capita                               0.851513   \n",
       "Social support                               0.725997   \n",
       "Healthy life expectancy                      1.000000   \n",
       "Freedom to make life choices                 0.412906   \n",
       "Generosity                                  -0.006773   \n",
       "Perceptions of corruption                    0.165309   \n",
       "\n",
       "                              Freedom to make life choices  Generosity  \\\n",
       "Score                                             0.551974    0.070483   \n",
       "GDP per capita                                    0.393426   -0.041304   \n",
       "Social support                                    0.449491    0.007695   \n",
       "Healthy life expectancy                           0.412906   -0.006773   \n",
       "Freedom to make life choices                      1.000000    0.324146   \n",
       "Generosity                                        0.324146    1.000000   \n",
       "Perceptions of corruption                         0.403586    0.286171   \n",
       "\n",
       "                              Perceptions of corruption  \n",
       "Score                                          0.217348  \n",
       "GDP per capita                                 0.223203  \n",
       "Social support                                 0.114017  \n",
       "Healthy life expectancy                        0.165309  \n",
       "Freedom to make life choices                   0.403586  \n",
       "Generosity                                     0.286171  \n",
       "Perceptions of corruption                      1.000000  "
      ]
     },
     "execution_count": 83,
     "metadata": {},
     "output_type": "execute_result"
    }
   ],
   "source": [
    "# correlation calculation using spearman method\n",
    "df_spearman = df.drop(['Overall rank'], axis=1)\n",
    "df_spearman = df_spearman.corr(method='spearman')\n",
    "df_spearman"
   ]
  },
  {
   "cell_type": "markdown",
   "metadata": {},
   "source": [
    "    Feature that influence happiness score the most based on spearman is 'Social support'"
   ]
  },
  {
   "cell_type": "code",
   "execution_count": 84,
   "metadata": {},
   "outputs": [
    {
     "data": {
      "text/html": [
       "<div>\n",
       "<style scoped>\n",
       "    .dataframe tbody tr th:only-of-type {\n",
       "        vertical-align: middle;\n",
       "    }\n",
       "\n",
       "    .dataframe tbody tr th {\n",
       "        vertical-align: top;\n",
       "    }\n",
       "\n",
       "    .dataframe thead th {\n",
       "        text-align: right;\n",
       "    }\n",
       "</style>\n",
       "<table border=\"1\" class=\"dataframe\">\n",
       "  <thead>\n",
       "    <tr style=\"text-align: right;\">\n",
       "      <th></th>\n",
       "      <th>Score</th>\n",
       "      <th>GDP per capita</th>\n",
       "      <th>Social support</th>\n",
       "      <th>Healthy life expectancy</th>\n",
       "      <th>Freedom to make life choices</th>\n",
       "      <th>Generosity</th>\n",
       "      <th>Perceptions of corruption</th>\n",
       "    </tr>\n",
       "  </thead>\n",
       "  <tbody>\n",
       "    <tr>\n",
       "      <td>Score</td>\n",
       "      <td>1.000000</td>\n",
       "      <td>0.619993</td>\n",
       "      <td>0.616792</td>\n",
       "      <td>0.602613</td>\n",
       "      <td>0.394203</td>\n",
       "      <td>0.043759</td>\n",
       "      <td>0.140974</td>\n",
       "    </tr>\n",
       "    <tr>\n",
       "      <td>GDP per capita</td>\n",
       "      <td>0.619993</td>\n",
       "      <td>1.000000</td>\n",
       "      <td>0.569193</td>\n",
       "      <td>0.655693</td>\n",
       "      <td>0.270837</td>\n",
       "      <td>-0.042451</td>\n",
       "      <td>0.135225</td>\n",
       "    </tr>\n",
       "    <tr>\n",
       "      <td>Social support</td>\n",
       "      <td>0.616792</td>\n",
       "      <td>0.569193</td>\n",
       "      <td>1.000000</td>\n",
       "      <td>0.529983</td>\n",
       "      <td>0.319566</td>\n",
       "      <td>0.000746</td>\n",
       "      <td>0.070270</td>\n",
       "    </tr>\n",
       "    <tr>\n",
       "      <td>Healthy life expectancy</td>\n",
       "      <td>0.602613</td>\n",
       "      <td>0.655693</td>\n",
       "      <td>0.529983</td>\n",
       "      <td>1.000000</td>\n",
       "      <td>0.288418</td>\n",
       "      <td>-0.004901</td>\n",
       "      <td>0.106295</td>\n",
       "    </tr>\n",
       "    <tr>\n",
       "      <td>Freedom to make life choices</td>\n",
       "      <td>0.394203</td>\n",
       "      <td>0.270837</td>\n",
       "      <td>0.319566</td>\n",
       "      <td>0.288418</td>\n",
       "      <td>1.000000</td>\n",
       "      <td>0.226187</td>\n",
       "      <td>0.277792</td>\n",
       "    </tr>\n",
       "    <tr>\n",
       "      <td>Generosity</td>\n",
       "      <td>0.043759</td>\n",
       "      <td>-0.042451</td>\n",
       "      <td>0.000746</td>\n",
       "      <td>-0.004901</td>\n",
       "      <td>0.226187</td>\n",
       "      <td>1.000000</td>\n",
       "      <td>0.188933</td>\n",
       "    </tr>\n",
       "    <tr>\n",
       "      <td>Perceptions of corruption</td>\n",
       "      <td>0.140974</td>\n",
       "      <td>0.135225</td>\n",
       "      <td>0.070270</td>\n",
       "      <td>0.106295</td>\n",
       "      <td>0.277792</td>\n",
       "      <td>0.188933</td>\n",
       "      <td>1.000000</td>\n",
       "    </tr>\n",
       "  </tbody>\n",
       "</table>\n",
       "</div>"
      ],
      "text/plain": [
       "                                 Score  GDP per capita  Social support  \\\n",
       "Score                         1.000000        0.619993        0.616792   \n",
       "GDP per capita                0.619993        1.000000        0.569193   \n",
       "Social support                0.616792        0.569193        1.000000   \n",
       "Healthy life expectancy       0.602613        0.655693        0.529983   \n",
       "Freedom to make life choices  0.394203        0.270837        0.319566   \n",
       "Generosity                    0.043759       -0.042451        0.000746   \n",
       "Perceptions of corruption     0.140974        0.135225        0.070270   \n",
       "\n",
       "                              Healthy life expectancy  \\\n",
       "Score                                        0.602613   \n",
       "GDP per capita                               0.655693   \n",
       "Social support                               0.529983   \n",
       "Healthy life expectancy                      1.000000   \n",
       "Freedom to make life choices                 0.288418   \n",
       "Generosity                                  -0.004901   \n",
       "Perceptions of corruption                    0.106295   \n",
       "\n",
       "                              Freedom to make life choices  Generosity  \\\n",
       "Score                                             0.394203    0.043759   \n",
       "GDP per capita                                    0.270837   -0.042451   \n",
       "Social support                                    0.319566    0.000746   \n",
       "Healthy life expectancy                           0.288418   -0.004901   \n",
       "Freedom to make life choices                      1.000000    0.226187   \n",
       "Generosity                                        0.226187    1.000000   \n",
       "Perceptions of corruption                         0.277792    0.188933   \n",
       "\n",
       "                              Perceptions of corruption  \n",
       "Score                                          0.140974  \n",
       "GDP per capita                                 0.135225  \n",
       "Social support                                 0.070270  \n",
       "Healthy life expectancy                        0.106295  \n",
       "Freedom to make life choices                   0.277792  \n",
       "Generosity                                     0.188933  \n",
       "Perceptions of corruption                      1.000000  "
      ]
     },
     "execution_count": 84,
     "metadata": {},
     "output_type": "execute_result"
    }
   ],
   "source": [
    "# correlation calculation using kendall method\n",
    "df_kendall = df.drop(['Overall rank'], axis=1)\n",
    "df_kendall = df_kendall.corr(method='kendall')\n",
    "df_kendall"
   ]
  },
  {
   "cell_type": "markdown",
   "metadata": {},
   "source": [
    "    Feature that influence happiness score the most based on kendall is 'GDP per capita'"
   ]
  },
  {
   "cell_type": "markdown",
   "metadata": {},
   "source": [
    "    Conclusion:\n",
    "    - Features that influence happines score of a country are (ranking order):\n",
    "        1. GDP per capita\n",
    "        2. Social support\n",
    "        3. Healthy life expectancy\n",
    "    - The strength of the relationships are very strong (> 70%)\n",
    "    - The linear relationship direction of those three features are positive (The highest the feature score, the highest the happiness score will be)"
   ]
  },
  {
   "cell_type": "markdown",
   "metadata": {},
   "source": [
    "#### __5. Visualisasikan dalam bentuk bar chart data berikut:__\n",
    "- 10 Negara dengan GDP per capita tertinggi.\n",
    "- 10 Negara dengan Healthy life expectancy tertinggi.\n",
    "- 10 Negara dengan Perceptions of corruption tertinggi."
   ]
  },
  {
   "cell_type": "code",
   "execution_count": 85,
   "metadata": {},
   "outputs": [
    {
     "data": {
      "text/html": [
       "<div>\n",
       "<style scoped>\n",
       "    .dataframe tbody tr th:only-of-type {\n",
       "        vertical-align: middle;\n",
       "    }\n",
       "\n",
       "    .dataframe tbody tr th {\n",
       "        vertical-align: top;\n",
       "    }\n",
       "\n",
       "    .dataframe thead th {\n",
       "        text-align: right;\n",
       "    }\n",
       "</style>\n",
       "<table border=\"1\" class=\"dataframe\">\n",
       "  <thead>\n",
       "    <tr style=\"text-align: right;\">\n",
       "      <th></th>\n",
       "      <th>Overall rank</th>\n",
       "      <th>Country or region</th>\n",
       "      <th>Score</th>\n",
       "      <th>GDP per capita</th>\n",
       "      <th>Social support</th>\n",
       "      <th>Healthy life expectancy</th>\n",
       "      <th>Freedom to make life choices</th>\n",
       "      <th>Generosity</th>\n",
       "      <th>Perceptions of corruption</th>\n",
       "    </tr>\n",
       "  </thead>\n",
       "  <tbody>\n",
       "    <tr>\n",
       "      <td>28</td>\n",
       "      <td>29</td>\n",
       "      <td>Qatar</td>\n",
       "      <td>6.374</td>\n",
       "      <td>1.684</td>\n",
       "      <td>1.313</td>\n",
       "      <td>0.871</td>\n",
       "      <td>0.555</td>\n",
       "      <td>0.220</td>\n",
       "      <td>0.167</td>\n",
       "    </tr>\n",
       "    <tr>\n",
       "      <td>13</td>\n",
       "      <td>14</td>\n",
       "      <td>Luxembourg</td>\n",
       "      <td>7.090</td>\n",
       "      <td>1.609</td>\n",
       "      <td>1.479</td>\n",
       "      <td>1.012</td>\n",
       "      <td>0.526</td>\n",
       "      <td>0.194</td>\n",
       "      <td>0.316</td>\n",
       "    </tr>\n",
       "    <tr>\n",
       "      <td>33</td>\n",
       "      <td>34</td>\n",
       "      <td>Singapore</td>\n",
       "      <td>6.262</td>\n",
       "      <td>1.572</td>\n",
       "      <td>1.463</td>\n",
       "      <td>1.141</td>\n",
       "      <td>0.556</td>\n",
       "      <td>0.271</td>\n",
       "      <td>0.453</td>\n",
       "    </tr>\n",
       "    <tr>\n",
       "      <td>20</td>\n",
       "      <td>21</td>\n",
       "      <td>United Arab Emirates</td>\n",
       "      <td>6.825</td>\n",
       "      <td>1.503</td>\n",
       "      <td>1.310</td>\n",
       "      <td>0.825</td>\n",
       "      <td>0.598</td>\n",
       "      <td>0.262</td>\n",
       "      <td>0.182</td>\n",
       "    </tr>\n",
       "    <tr>\n",
       "      <td>50</td>\n",
       "      <td>51</td>\n",
       "      <td>Kuwait</td>\n",
       "      <td>6.021</td>\n",
       "      <td>1.500</td>\n",
       "      <td>1.319</td>\n",
       "      <td>0.808</td>\n",
       "      <td>0.493</td>\n",
       "      <td>0.142</td>\n",
       "      <td>0.097</td>\n",
       "    </tr>\n",
       "    <tr>\n",
       "      <td>15</td>\n",
       "      <td>16</td>\n",
       "      <td>Ireland</td>\n",
       "      <td>7.021</td>\n",
       "      <td>1.499</td>\n",
       "      <td>1.553</td>\n",
       "      <td>0.999</td>\n",
       "      <td>0.516</td>\n",
       "      <td>0.298</td>\n",
       "      <td>0.310</td>\n",
       "    </tr>\n",
       "    <tr>\n",
       "      <td>2</td>\n",
       "      <td>3</td>\n",
       "      <td>Norway</td>\n",
       "      <td>7.554</td>\n",
       "      <td>1.488</td>\n",
       "      <td>1.582</td>\n",
       "      <td>1.028</td>\n",
       "      <td>0.603</td>\n",
       "      <td>0.271</td>\n",
       "      <td>0.341</td>\n",
       "    </tr>\n",
       "    <tr>\n",
       "      <td>5</td>\n",
       "      <td>6</td>\n",
       "      <td>Switzerland</td>\n",
       "      <td>7.480</td>\n",
       "      <td>1.452</td>\n",
       "      <td>1.526</td>\n",
       "      <td>1.052</td>\n",
       "      <td>0.572</td>\n",
       "      <td>0.263</td>\n",
       "      <td>0.343</td>\n",
       "    </tr>\n",
       "    <tr>\n",
       "      <td>75</td>\n",
       "      <td>76</td>\n",
       "      <td>Hong Kong</td>\n",
       "      <td>5.430</td>\n",
       "      <td>1.438</td>\n",
       "      <td>1.277</td>\n",
       "      <td>1.122</td>\n",
       "      <td>0.440</td>\n",
       "      <td>0.258</td>\n",
       "      <td>0.287</td>\n",
       "    </tr>\n",
       "    <tr>\n",
       "      <td>18</td>\n",
       "      <td>19</td>\n",
       "      <td>United States</td>\n",
       "      <td>6.892</td>\n",
       "      <td>1.433</td>\n",
       "      <td>1.457</td>\n",
       "      <td>0.874</td>\n",
       "      <td>0.454</td>\n",
       "      <td>0.280</td>\n",
       "      <td>0.128</td>\n",
       "    </tr>\n",
       "  </tbody>\n",
       "</table>\n",
       "</div>"
      ],
      "text/plain": [
       "    Overall rank     Country or region  Score  GDP per capita  Social support  \\\n",
       "28            29                 Qatar  6.374           1.684           1.313   \n",
       "13            14            Luxembourg  7.090           1.609           1.479   \n",
       "33            34             Singapore  6.262           1.572           1.463   \n",
       "20            21  United Arab Emirates  6.825           1.503           1.310   \n",
       "50            51                Kuwait  6.021           1.500           1.319   \n",
       "15            16               Ireland  7.021           1.499           1.553   \n",
       "2              3                Norway  7.554           1.488           1.582   \n",
       "5              6           Switzerland  7.480           1.452           1.526   \n",
       "75            76             Hong Kong  5.430           1.438           1.277   \n",
       "18            19         United States  6.892           1.433           1.457   \n",
       "\n",
       "    Healthy life expectancy  Freedom to make life choices  Generosity  \\\n",
       "28                    0.871                         0.555       0.220   \n",
       "13                    1.012                         0.526       0.194   \n",
       "33                    1.141                         0.556       0.271   \n",
       "20                    0.825                         0.598       0.262   \n",
       "50                    0.808                         0.493       0.142   \n",
       "15                    0.999                         0.516       0.298   \n",
       "2                     1.028                         0.603       0.271   \n",
       "5                     1.052                         0.572       0.263   \n",
       "75                    1.122                         0.440       0.258   \n",
       "18                    0.874                         0.454       0.280   \n",
       "\n",
       "    Perceptions of corruption  \n",
       "28                      0.167  \n",
       "13                      0.316  \n",
       "33                      0.453  \n",
       "20                      0.182  \n",
       "50                      0.097  \n",
       "15                      0.310  \n",
       "2                       0.341  \n",
       "5                       0.343  \n",
       "75                      0.287  \n",
       "18                      0.128  "
      ]
     },
     "execution_count": 85,
     "metadata": {},
     "output_type": "execute_result"
    }
   ],
   "source": [
    "# 10 Negara dengan GDP per capita tertinggi\n",
    "df1 = df.sort_values(by='GDP per capita', ascending=False)\n",
    "df1 = df1.head(10)\n",
    "df1"
   ]
  },
  {
   "cell_type": "code",
   "execution_count": 86,
   "metadata": {},
   "outputs": [
    {
     "data": {
      "image/png": "[encoded data removed]",
      "text/plain": [
       "<Figure size 576x396 with 1 Axes>"
      ]
     },
     "metadata": {},
     "output_type": "display_data"
    }
   ],
   "source": [
    "plt.bar(df1['Country or region'], df1['GDP per capita'])\n",
    "plt.title('10 Negara dengan GDP per capita tertinggi', size=15)\n",
    "plt.xticks(rotation=45)\n",
    "plt.show()"
   ]
  },
  {
   "cell_type": "code",
   "execution_count": 87,
   "metadata": {},
   "outputs": [
    {
     "data": {
      "text/html": [
       "<div>\n",
       "<style scoped>\n",
       "    .dataframe tbody tr th:only-of-type {\n",
       "        vertical-align: middle;\n",
       "    }\n",
       "\n",
       "    .dataframe tbody tr th {\n",
       "        vertical-align: top;\n",
       "    }\n",
       "\n",
       "    .dataframe thead th {\n",
       "        text-align: right;\n",
       "    }\n",
       "</style>\n",
       "<table border=\"1\" class=\"dataframe\">\n",
       "  <thead>\n",
       "    <tr style=\"text-align: right;\">\n",
       "      <th></th>\n",
       "      <th>Overall rank</th>\n",
       "      <th>Country or region</th>\n",
       "      <th>Score</th>\n",
       "      <th>GDP per capita</th>\n",
       "      <th>Social support</th>\n",
       "      <th>Healthy life expectancy</th>\n",
       "      <th>Freedom to make life choices</th>\n",
       "      <th>Generosity</th>\n",
       "      <th>Perceptions of corruption</th>\n",
       "    </tr>\n",
       "  </thead>\n",
       "  <tbody>\n",
       "    <tr>\n",
       "      <td>33</td>\n",
       "      <td>34</td>\n",
       "      <td>Singapore</td>\n",
       "      <td>6.262</td>\n",
       "      <td>1.572</td>\n",
       "      <td>1.463</td>\n",
       "      <td>1.141</td>\n",
       "      <td>0.556</td>\n",
       "      <td>0.271</td>\n",
       "      <td>0.453</td>\n",
       "    </tr>\n",
       "    <tr>\n",
       "      <td>75</td>\n",
       "      <td>76</td>\n",
       "      <td>Hong Kong</td>\n",
       "      <td>5.430</td>\n",
       "      <td>1.438</td>\n",
       "      <td>1.277</td>\n",
       "      <td>1.122</td>\n",
       "      <td>0.440</td>\n",
       "      <td>0.258</td>\n",
       "      <td>0.287</td>\n",
       "    </tr>\n",
       "    <tr>\n",
       "      <td>57</td>\n",
       "      <td>58</td>\n",
       "      <td>Japan</td>\n",
       "      <td>5.886</td>\n",
       "      <td>1.327</td>\n",
       "      <td>1.419</td>\n",
       "      <td>1.088</td>\n",
       "      <td>0.445</td>\n",
       "      <td>0.069</td>\n",
       "      <td>0.140</td>\n",
       "    </tr>\n",
       "    <tr>\n",
       "      <td>29</td>\n",
       "      <td>30</td>\n",
       "      <td>Spain</td>\n",
       "      <td>6.354</td>\n",
       "      <td>1.286</td>\n",
       "      <td>1.484</td>\n",
       "      <td>1.062</td>\n",
       "      <td>0.362</td>\n",
       "      <td>0.153</td>\n",
       "      <td>0.079</td>\n",
       "    </tr>\n",
       "    <tr>\n",
       "      <td>5</td>\n",
       "      <td>6</td>\n",
       "      <td>Switzerland</td>\n",
       "      <td>7.480</td>\n",
       "      <td>1.452</td>\n",
       "      <td>1.526</td>\n",
       "      <td>1.052</td>\n",
       "      <td>0.572</td>\n",
       "      <td>0.263</td>\n",
       "      <td>0.343</td>\n",
       "    </tr>\n",
       "    <tr>\n",
       "      <td>23</td>\n",
       "      <td>24</td>\n",
       "      <td>France</td>\n",
       "      <td>6.592</td>\n",
       "      <td>1.324</td>\n",
       "      <td>1.472</td>\n",
       "      <td>1.045</td>\n",
       "      <td>0.436</td>\n",
       "      <td>0.111</td>\n",
       "      <td>0.183</td>\n",
       "    </tr>\n",
       "    <tr>\n",
       "      <td>48</td>\n",
       "      <td>49</td>\n",
       "      <td>Cyprus</td>\n",
       "      <td>6.046</td>\n",
       "      <td>1.263</td>\n",
       "      <td>1.223</td>\n",
       "      <td>1.042</td>\n",
       "      <td>0.406</td>\n",
       "      <td>0.190</td>\n",
       "      <td>0.041</td>\n",
       "    </tr>\n",
       "    <tr>\n",
       "      <td>63</td>\n",
       "      <td>64</td>\n",
       "      <td>Northern Cyprus</td>\n",
       "      <td>5.718</td>\n",
       "      <td>1.263</td>\n",
       "      <td>1.252</td>\n",
       "      <td>1.042</td>\n",
       "      <td>0.417</td>\n",
       "      <td>0.191</td>\n",
       "      <td>0.162</td>\n",
       "    </tr>\n",
       "    <tr>\n",
       "      <td>35</td>\n",
       "      <td>36</td>\n",
       "      <td>Italy</td>\n",
       "      <td>6.223</td>\n",
       "      <td>1.294</td>\n",
       "      <td>1.488</td>\n",
       "      <td>1.039</td>\n",
       "      <td>0.231</td>\n",
       "      <td>0.158</td>\n",
       "      <td>0.030</td>\n",
       "    </tr>\n",
       "    <tr>\n",
       "      <td>8</td>\n",
       "      <td>9</td>\n",
       "      <td>Canada</td>\n",
       "      <td>7.278</td>\n",
       "      <td>1.365</td>\n",
       "      <td>1.505</td>\n",
       "      <td>1.039</td>\n",
       "      <td>0.584</td>\n",
       "      <td>0.285</td>\n",
       "      <td>0.308</td>\n",
       "    </tr>\n",
       "  </tbody>\n",
       "</table>\n",
       "</div>"
      ],
      "text/plain": [
       "    Overall rank Country or region  Score  GDP per capita  Social support  \\\n",
       "33            34         Singapore  6.262           1.572           1.463   \n",
       "75            76         Hong Kong  5.430           1.438           1.277   \n",
       "57            58             Japan  5.886           1.327           1.419   \n",
       "29            30             Spain  6.354           1.286           1.484   \n",
       "5              6       Switzerland  7.480           1.452           1.526   \n",
       "23            24            France  6.592           1.324           1.472   \n",
       "48            49            Cyprus  6.046           1.263           1.223   \n",
       "63            64   Northern Cyprus  5.718           1.263           1.252   \n",
       "35            36             Italy  6.223           1.294           1.488   \n",
       "8              9            Canada  7.278           1.365           1.505   \n",
       "\n",
       "    Healthy life expectancy  Freedom to make life choices  Generosity  \\\n",
       "33                    1.141                         0.556       0.271   \n",
       "75                    1.122                         0.440       0.258   \n",
       "57                    1.088                         0.445       0.069   \n",
       "29                    1.062                         0.362       0.153   \n",
       "5                     1.052                         0.572       0.263   \n",
       "23                    1.045                         0.436       0.111   \n",
       "48                    1.042                         0.406       0.190   \n",
       "63                    1.042                         0.417       0.191   \n",
       "35                    1.039                         0.231       0.158   \n",
       "8                     1.039                         0.584       0.285   \n",
       "\n",
       "    Perceptions of corruption  \n",
       "33                      0.453  \n",
       "75                      0.287  \n",
       "57                      0.140  \n",
       "29                      0.079  \n",
       "5                       0.343  \n",
       "23                      0.183  \n",
       "48                      0.041  \n",
       "63                      0.162  \n",
       "35                      0.030  \n",
       "8                       0.308  "
      ]
     },
     "execution_count": 87,
     "metadata": {},
     "output_type": "execute_result"
    }
   ],
   "source": [
    "# 10 Negara dengan Healthy life expectancy tertinggi\n",
    "df2 = df.sort_values(by='Healthy life expectancy', ascending=False)\n",
    "df2 = df2.head(10)\n",
    "df2"
   ]
  },
  {
   "cell_type": "code",
   "execution_count": 88,
   "metadata": {},
   "outputs": [
    {
     "data": {
      "image/png": "[encoded data removed]",
      "text/plain": [
       "<Figure size 576x396 with 1 Axes>"
      ]
     },
     "metadata": {},
     "output_type": "display_data"
    }
   ],
   "source": [
    "plt.bar(df2['Country or region'], df2['Healthy life expectancy'])\n",
    "plt.title('10 Negara dengan Healthy life expectancy tertinggi', size=15)\n",
    "plt.xticks(rotation=45)\n",
    "plt.show()"
   ]
  },
  {
   "cell_type": "code",
   "execution_count": 89,
   "metadata": {},
   "outputs": [
    {
     "data": {
      "text/html": [
       "<div>\n",
       "<style scoped>\n",
       "    .dataframe tbody tr th:only-of-type {\n",
       "        vertical-align: middle;\n",
       "    }\n",
       "\n",
       "    .dataframe tbody tr th {\n",
       "        vertical-align: top;\n",
       "    }\n",
       "\n",
       "    .dataframe thead th {\n",
       "        text-align: right;\n",
       "    }\n",
       "</style>\n",
       "<table border=\"1\" class=\"dataframe\">\n",
       "  <thead>\n",
       "    <tr style=\"text-align: right;\">\n",
       "      <th></th>\n",
       "      <th>Overall rank</th>\n",
       "      <th>Country or region</th>\n",
       "      <th>Score</th>\n",
       "      <th>GDP per capita</th>\n",
       "      <th>Social support</th>\n",
       "      <th>Healthy life expectancy</th>\n",
       "      <th>Freedom to make life choices</th>\n",
       "      <th>Generosity</th>\n",
       "      <th>Perceptions of corruption</th>\n",
       "    </tr>\n",
       "  </thead>\n",
       "  <tbody>\n",
       "    <tr>\n",
       "      <td>33</td>\n",
       "      <td>34</td>\n",
       "      <td>Singapore</td>\n",
       "      <td>6.262</td>\n",
       "      <td>1.572</td>\n",
       "      <td>1.463</td>\n",
       "      <td>1.141</td>\n",
       "      <td>0.556</td>\n",
       "      <td>0.271</td>\n",
       "      <td>0.453</td>\n",
       "    </tr>\n",
       "    <tr>\n",
       "      <td>151</td>\n",
       "      <td>152</td>\n",
       "      <td>Rwanda</td>\n",
       "      <td>3.334</td>\n",
       "      <td>0.359</td>\n",
       "      <td>0.711</td>\n",
       "      <td>0.614</td>\n",
       "      <td>0.555</td>\n",
       "      <td>0.217</td>\n",
       "      <td>0.411</td>\n",
       "    </tr>\n",
       "    <tr>\n",
       "      <td>1</td>\n",
       "      <td>2</td>\n",
       "      <td>Denmark</td>\n",
       "      <td>7.600</td>\n",
       "      <td>1.383</td>\n",
       "      <td>1.573</td>\n",
       "      <td>0.996</td>\n",
       "      <td>0.592</td>\n",
       "      <td>0.252</td>\n",
       "      <td>0.410</td>\n",
       "    </tr>\n",
       "    <tr>\n",
       "      <td>0</td>\n",
       "      <td>1</td>\n",
       "      <td>Finland</td>\n",
       "      <td>7.769</td>\n",
       "      <td>1.340</td>\n",
       "      <td>1.587</td>\n",
       "      <td>0.986</td>\n",
       "      <td>0.596</td>\n",
       "      <td>0.153</td>\n",
       "      <td>0.393</td>\n",
       "    </tr>\n",
       "    <tr>\n",
       "      <td>7</td>\n",
       "      <td>8</td>\n",
       "      <td>New Zealand</td>\n",
       "      <td>7.307</td>\n",
       "      <td>1.303</td>\n",
       "      <td>1.557</td>\n",
       "      <td>1.026</td>\n",
       "      <td>0.585</td>\n",
       "      <td>0.330</td>\n",
       "      <td>0.380</td>\n",
       "    </tr>\n",
       "    <tr>\n",
       "      <td>6</td>\n",
       "      <td>7</td>\n",
       "      <td>Sweden</td>\n",
       "      <td>7.343</td>\n",
       "      <td>1.387</td>\n",
       "      <td>1.487</td>\n",
       "      <td>1.009</td>\n",
       "      <td>0.574</td>\n",
       "      <td>0.267</td>\n",
       "      <td>0.373</td>\n",
       "    </tr>\n",
       "    <tr>\n",
       "      <td>5</td>\n",
       "      <td>6</td>\n",
       "      <td>Switzerland</td>\n",
       "      <td>7.480</td>\n",
       "      <td>1.452</td>\n",
       "      <td>1.526</td>\n",
       "      <td>1.052</td>\n",
       "      <td>0.572</td>\n",
       "      <td>0.263</td>\n",
       "      <td>0.343</td>\n",
       "    </tr>\n",
       "    <tr>\n",
       "      <td>2</td>\n",
       "      <td>3</td>\n",
       "      <td>Norway</td>\n",
       "      <td>7.554</td>\n",
       "      <td>1.488</td>\n",
       "      <td>1.582</td>\n",
       "      <td>1.028</td>\n",
       "      <td>0.603</td>\n",
       "      <td>0.271</td>\n",
       "      <td>0.341</td>\n",
       "    </tr>\n",
       "    <tr>\n",
       "      <td>13</td>\n",
       "      <td>14</td>\n",
       "      <td>Luxembourg</td>\n",
       "      <td>7.090</td>\n",
       "      <td>1.609</td>\n",
       "      <td>1.479</td>\n",
       "      <td>1.012</td>\n",
       "      <td>0.526</td>\n",
       "      <td>0.194</td>\n",
       "      <td>0.316</td>\n",
       "    </tr>\n",
       "    <tr>\n",
       "      <td>15</td>\n",
       "      <td>16</td>\n",
       "      <td>Ireland</td>\n",
       "      <td>7.021</td>\n",
       "      <td>1.499</td>\n",
       "      <td>1.553</td>\n",
       "      <td>0.999</td>\n",
       "      <td>0.516</td>\n",
       "      <td>0.298</td>\n",
       "      <td>0.310</td>\n",
       "    </tr>\n",
       "  </tbody>\n",
       "</table>\n",
       "</div>"
      ],
      "text/plain": [
       "     Overall rank Country or region  Score  GDP per capita  Social support  \\\n",
       "33             34         Singapore  6.262           1.572           1.463   \n",
       "151           152            Rwanda  3.334           0.359           0.711   \n",
       "1               2           Denmark  7.600           1.383           1.573   \n",
       "0               1           Finland  7.769           1.340           1.587   \n",
       "7               8       New Zealand  7.307           1.303           1.557   \n",
       "6               7            Sweden  7.343           1.387           1.487   \n",
       "5               6       Switzerland  7.480           1.452           1.526   \n",
       "2               3            Norway  7.554           1.488           1.582   \n",
       "13             14        Luxembourg  7.090           1.609           1.479   \n",
       "15             16           Ireland  7.021           1.499           1.553   \n",
       "\n",
       "     Healthy life expectancy  Freedom to make life choices  Generosity  \\\n",
       "33                     1.141                         0.556       0.271   \n",
       "151                    0.614                         0.555       0.217   \n",
       "1                      0.996                         0.592       0.252   \n",
       "0                      0.986                         0.596       0.153   \n",
       "7                      1.026                         0.585       0.330   \n",
       "6                      1.009                         0.574       0.267   \n",
       "5                      1.052                         0.572       0.263   \n",
       "2                      1.028                         0.603       0.271   \n",
       "13                     1.012                         0.526       0.194   \n",
       "15                     0.999                         0.516       0.298   \n",
       "\n",
       "     Perceptions of corruption  \n",
       "33                       0.453  \n",
       "151                      0.411  \n",
       "1                        0.410  \n",
       "0                        0.393  \n",
       "7                        0.380  \n",
       "6                        0.373  \n",
       "5                        0.343  \n",
       "2                        0.341  \n",
       "13                       0.316  \n",
       "15                       0.310  "
      ]
     },
     "execution_count": 89,
     "metadata": {},
     "output_type": "execute_result"
    }
   ],
   "source": [
    "# 10 Negara dengan Perceptions of corruption tertinggi.\n",
    "df3 = df.sort_values(by='Perceptions of corruption', ascending=False)\n",
    "df3 = df3.head(10)\n",
    "df3"
   ]
  },
  {
   "cell_type": "code",
   "execution_count": 90,
   "metadata": {},
   "outputs": [
    {
     "data": {
      "image/png": "[encoded data removed]",
      "text/plain": [
       "<Figure size 576x396 with 1 Axes>"
      ]
     },
     "metadata": {},
     "output_type": "display_data"
    }
   ],
   "source": [
    "plt.bar(df3['Country or region'], df3['Perceptions of corruption'])\n",
    "plt.title('10 Negara dengan Perceptions of corruption tertinggi', size=15)\n",
    "plt.xticks(rotation=45)\n",
    "plt.show()"
   ]
  },
  {
   "cell_type": "code",
   "execution_count": null,
   "metadata": {},
   "outputs": [],
   "source": []
  }
 ],
 "metadata": {
  "kernelspec": {
   "display_name": "Python 3",
   "language": "python",
   "name": "python3"
  },
  "language_info": {
   "codemirror_mode": {
    "name": "ipython",
    "version": 3
   },
   "file_extension": ".py",
   "mimetype": "text/x-python",
   "name": "python",
   "nbconvert_exporter": "python",
   "pygments_lexer": "ipython3",
   "version": "3.7.4"
  }
 },
 "nbformat": 4,
 "nbformat_minor": 4
}
